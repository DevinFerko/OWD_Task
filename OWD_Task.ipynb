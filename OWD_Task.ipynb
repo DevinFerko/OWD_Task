{
 "cells": [
  {
   "cell_type": "markdown",
   "metadata": {},
   "source": [
    "### Purpose\n",
    "\n",
    "The purpose of this excercise is to tkae age specific death rates for COPD victims the use these rates to calculate both crude and age-standardized death rates. This findings will be presented as a data analysis excercise to test my skills and work practices"
   ]
  },
  {
   "cell_type": "code",
   "execution_count": 8,
   "metadata": {},
   "outputs": [],
   "source": [
    "# Data prep - Creates dictionary containing two lists (United States and Uganda), represents age-specific death rates copd\n",
    "death_rates = {\n",
    "    'USA': [0.04, 0.02, 0.02, 0.02, 0.06, 0.11, 0.29, 0.56, 1.42, 4.00, 14.13, 37.22, 66.48, 108.66, 213.10, 333.06, 491.10, 894.45],\n",
    "    'Uganda': [0.40, 0.17, 0.07, 0.23, 0.38, 0.40, 0.75, 1.11, 2.04, 5.51, 13.26, 33.25, 69.62, 120.78, 229.88, 341.06, 529.31, 710.40]\n",
    "}\n",
    "\n",
    "# Total populations in the 100,000s (Taken from UN World Population Prospects 2022, Total  Population as of January 1st Column, year 2019)\n",
    "total_pop = {\n",
    "    'USA': 333251,\n",
    "    'Uganda': 42212\n",
    "}\n",
    "\n",
    "# WHO standard pop for age-standardization\n",
    "who_stand_pop = {\n",
    "    '0-4': 8.86,\n",
    "    '5-9': 8.69,\n",
    "    '10-14': 8.60,\n",
    "    '15-19': 8.47,\n",
    "    '20-24': 8.22,\n",
    "    '25-29': 7.93,\n",
    "    '30-34': 7.61,\n",
    "    '35-39': 7.15,\n",
    "    '40-44': 6.59,\n",
    "    '45-49': 6.04,\n",
    "    '50-54': 5.37,\n",
    "    '55-59': 4.55,\n",
    "    '60-64': 3.72,\n",
    "    '65-69': 2.96,\n",
    "    '70-74': 2.21,\n",
    "    '75-79': 1.52,\n",
    "    '80-84': 0.91,\n",
    "    '85+': 0.63\n",
    "}"
   ]
  },
  {
   "cell_type": "markdown",
   "metadata": {},
   "source": []
  },
  {
   "cell_type": "code",
   "execution_count": 9,
   "metadata": {},
   "outputs": [
    {
     "name": "stdout",
     "output_type": "stream",
     "text": [
      "Crude Death Rates (per 100,000 people):\n",
      "USA: 649.6\n",
      "Uganda: 4876.9\n"
     ]
    }
   ],
   "source": [
    "# Calculates and prints Crude Death Rate\n",
    "crude_death = {}\n",
    "for country, rates in death_rates.items():\n",
    "    total_deaths = sum(rates)\n",
    "    crude_death[country] = (total_deaths/total_pop[country]) * 100000\n",
    "\n",
    "#prints\n",
    "print(\"Crude Death Rates (per 100,000 people):\")\n",
    "for country, rate in crude_death.items():\n",
    "    print(f\"{country}: {rate:.1f}\")\n"
   ]
  },
  {
   "cell_type": "markdown",
   "metadata": {},
   "source": []
  },
  {
   "cell_type": "code",
   "execution_count": 10,
   "metadata": {},
   "outputs": [
    {
     "name": "stdout",
     "output_type": "stream",
     "text": [
      "Age-Standardized Death Rates (per 100,000 people):\n",
      "USA: 8.5\n",
      "Uganda: 67.9\n"
     ]
    }
   ],
   "source": [
    "# Calculates and prints Standardized Death Rate\n",
    "age_standardized_rate = {}\n",
    "for country, rates in death_rates.items():\n",
    "    standardized_rates = [rate * who_stand_pop[age_group] / total_pop[country] for rate, age_group in zip(rates, who_stand_pop)]\n",
    "    age_standardized_rate[country] = (sum(standardized_rates) / sum(who_stand_pop.values())) * 100_000\n",
    "\n",
    "print(\"Age-Standardized Death Rates (per 100,000 people):\")\n",
    "for country, rate in age_standardized_rate.items():\n",
    "    print(f\"{country}: {rate:.1f}\")\n"
   ]
  }
 ],
 "metadata": {
  "kernelspec": {
   "display_name": "base",
   "language": "python",
   "name": "python3"
  },
  "language_info": {
   "codemirror_mode": {
    "name": "ipython",
    "version": 3
   },
   "file_extension": ".py",
   "mimetype": "text/x-python",
   "name": "python",
   "nbconvert_exporter": "python",
   "pygments_lexer": "ipython3",
   "version": "3.10.10"
  }
 },
 "nbformat": 4,
 "nbformat_minor": 2
}
